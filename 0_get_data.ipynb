{
 "cells": [
  {
   "cell_type": "code",
   "execution_count": 1,
   "metadata": {
    "id": "O0XOfBf5Pnkh"
   },
   "outputs": [],
   "source": [
    "import cv2\n",
    "import copy\n",
    "import numpy as np\n",
    "np.set_printoptions(suppress=True)\n",
    "import pandas as pd\n",
    "from glob import glob\n",
    "import os,sys,gc\n",
    "import argparse\n",
    "import json,time\n",
    "import matplotlib.pyplot as plt\n",
    "import torch\n",
    "from torch import from_numpy\n",
    "import subprocess\n",
    "from pathlib import Path\n",
    "from typing import NamedTuple\n",
    "from math import ceil, floor\n",
    "import ffmpeg"
   ]
  },
  {
   "cell_type": "code",
   "execution_count": 2,
   "metadata": {},
   "outputs": [
    {
     "name": "stdout",
     "output_type": "stream",
     "text": [
      "cuda\n"
     ]
    }
   ],
   "source": [
    "DEVICE = 'cuda' if torch.cuda.is_available() else 'cpu'\n",
    "print(DEVICE)"
   ]
  },
  {
   "cell_type": "code",
   "execution_count": 3,
   "metadata": {
    "colab": {
     "base_uri": "https://localhost:8080/"
    },
    "id": "WYV8daOXSIFy",
    "outputId": "7c9353ae-ae21-4427-e953-1a2afe4b0414"
   },
   "outputs": [],
   "source": [
    "# openpose setup\n",
    "from src import model\n",
    "from src import util_add_fun as util\n",
    "from src.body import Body\n",
    "# from src.hand import Hand"
   ]
  },
  {
   "cell_type": "code",
   "execution_count": 4,
   "metadata": {},
   "outputs": [],
   "source": [
    "# pretrained model of pytorch-openpose\n",
    "openpose = Body('/home/bhennelly/Documents/QIN/thesis_project/pytorch-openpose-direct-v2/weights/body_pose_model.pth')"
   ]
  },
  {
   "cell_type": "code",
   "execution_count": 5,
   "metadata": {},
   "outputs": [
    {
     "name": "stdout",
     "output_type": "stream",
     "text": [
      "44\n"
     ]
    }
   ],
   "source": [
    "video_path = '/home/bhennelly/Documents/QIN/thesis_project/FLIR_fall'\n",
    "\n",
    "files = os.listdir(video_path)\n",
    "print(len(files))"
   ]
  },
  {
   "cell_type": "code",
   "execution_count": 15,
   "metadata": {},
   "outputs": [
    {
     "name": "stdout",
     "output_type": "stream",
     "text": [
      "3\n",
      "1\n",
      "['FALL_31.avi', 'FALL_26.avi', 'FALL_29.avi', 'ADL_2.avi']\n"
     ]
    }
   ],
   "source": [
    "# import random\n",
    "# random.seed(2025)\n",
    "\n",
    "# fall_videos = []\n",
    "# normal_videos = []\n",
    "\n",
    "# for file in files:\n",
    "#     if 'FALL' in file:\n",
    "#         fall_videos.append(file)\n",
    "#     else:\n",
    "#         normal_videos.append(file)  \n",
    "# # print(len(fall_videos)) # 35\n",
    "# # print(len(normal_videos)) # 9\n",
    "\n",
    "# def get_random_sample(videos, ratio = 0.10):\n",
    "#     n = max(1, int(len(videos)*ratio))\n",
    "#     print(n)\n",
    "#     return random.sample(videos, n)\n",
    "\n",
    "# valid_fall_videos = get_random_sample(fall_videos, ratio = 0.10) # 3\n",
    "# valid_normal_videos = get_random_sample(normal_videos, ratio = 0.10) # 1\n",
    "\n",
    "# valid_videos = valid_fall_videos + valid_normal_videos\n",
    "# print(valid_videos)"
   ]
  },
  {
   "cell_type": "code",
   "execution_count": 16,
   "metadata": {},
   "outputs": [
    {
     "name": "stdout",
     "output_type": "stream",
     "text": [
      "40\n",
      "4\n"
     ]
    }
   ],
   "source": [
    "valid_videos = ['FALL_31.avi', 'FALL_26.avi', 'FALL_29.avi', 'ADL_2.avi']\n",
    "train_videos = [x for x in files if x not in valid_videos]\n",
    "print(len(train_videos))\n",
    "print(len(valid_videos))"
   ]
  },
  {
   "cell_type": "code",
   "execution_count": 17,
   "metadata": {},
   "outputs": [],
   "source": [
    "import os\n",
    "import shutil\n",
    "\n",
    "def clear_files(data_save_path, delete_folder=False):\n",
    "    if os.path.exists(data_save_path):\n",
    "        if delete_folder:\n",
    "            shutil.rmtree(data_save_path)\n",
    "        else:\n",
    "            print(f\"Directory {data_save_path} already exists.\")\n",
    "\n",
    "    if not os.path.exists(data_save_path):\n",
    "        os.makedirs(data_save_path)\n",
    "        os.makedirs(os.path.join(data_save_path, 'train', 'fall'), exist_ok=True)\n",
    "        os.makedirs(os.path.join(data_save_path, 'train', 'normal'), exist_ok=True)\n",
    "        os.makedirs(os.path.join(data_save_path, 'valid', 'fall'), exist_ok=True)\n",
    "        os.makedirs(os.path.join(data_save_path, 'valid', 'normal'), exist_ok=True)"
   ]
  },
  {
   "cell_type": "code",
   "execution_count": 18,
   "metadata": {},
   "outputs": [],
   "source": [
    "data_path = '/home/bhennelly/Documents/QIN/thesis_project/pytorch-openpose-direct-v2/datasets'"
   ]
  },
  {
   "cell_type": "code",
   "execution_count": 30,
   "metadata": {},
   "outputs": [],
   "source": [
    "clear_files(data_path, delete_folder=True)"
   ]
  },
  {
   "cell_type": "code",
   "execution_count": 31,
   "metadata": {},
   "outputs": [
    {
     "name": "stdout",
     "output_type": "stream",
     "text": [
      "(44, 2)\n",
      "  new_videoID  fall_time\n",
      "0  FALL_1.avi         29\n",
      "1  FALL_2.avi         28\n",
      "2  FALL_3.avi         28\n",
      "3  FALL_4.avi         43\n",
      "4  FALL_5.avi         48\n"
     ]
    },
    {
     "name": "stderr",
     "output_type": "stream",
     "text": [
      "/tmp/ipykernel_2927738/551456177.py:12: FutureWarning: Series.__getitem__ treating keys as positions is deprecated. In a future version, integer keys will always be treated as labels (consistent with DataFrame behavior). To access a value by position, use `ser.iloc[pos]`\n",
      "  target_data['new_videoID'] = target_data[['fileTarget','videoID']].apply(lambda row: row[0] + '_' + row[1] + '.avi', axis=1)\n"
     ]
    }
   ],
   "source": [
    "target_data = [[1,'FALL', 29],[2,'FALL', 28], [3,'FALL', 28], [4,'FALL', 43], [5,'FALL', 48], [6,'FALL', 29], [7,'FALL', 42],\n",
    "               [8,'FALL', 29], [9,'FALL', 27], [10,'FALL', 26],  [11,'FALL', 21], [12,'FALL', 23], [13,'FALL', 22], [14,'FALL', 30],\n",
    "               [15,'FALL', 25], [16,'FALL', 29], [17,'FALL', 26], [18,'FALL', 24], [19,'FALL', 25], [20,'FALL', 52], [21,'FALL', 30],\n",
    "               [22,'FALL', 51], [23,'FALL', 32], [24,'FALL', 41], [25,'FALL', 43], [26,'FALL', 56], [27,'FALL', 37], [28,'FALL', 44],\n",
    "               [29,'FALL', 51], [30,'FALL', 58],  [31,'FALL', 34], [32,'FALL', 47],  [33,'FALL', 43], [34,'FALL', 58],  [35,'FALL', 40],\n",
    "               [1,'ADL',99999], [2,'ADL',99999], [3,'ADL',99999], [4,'ADL',99999],  [5,'ADL',99999], [6,'ADL',99999], [7,'ADL',99999],\n",
    "               [8,'ADL',99999], [9,'ADL',99999]]   \n",
    "\n",
    "target_data = pd.DataFrame(target_data, columns=['videoID','fileTarget','fall_time'])\n",
    "target_data['videoID'] = target_data['videoID'].apply(str)\n",
    "target_data['fall_time'] = target_data['fall_time'].apply(lambda x:round(x,2))\n",
    "target_data['new_videoID'] = target_data[['fileTarget','videoID']].apply(lambda row: row[0] + '_' + row[1] + '.avi', axis=1)\n",
    "target_data = target_data[['new_videoID','fall_time']].drop_duplicates().reset_index(drop=True)\n",
    "print(target_data.shape)\n",
    "print(target_data.head())"
   ]
  },
  {
   "cell_type": "code",
   "execution_count": 32,
   "metadata": {},
   "outputs": [],
   "source": [
    "stride = 8 # 步长8，在做补全的时候，一般都是8的倍数？\n",
    "upsample_ratio = 4 # 这是什么意思？\n",
    "num_keypoints = 18\n",
    "cpu=False\n",
    "height_size = 256"
   ]
  },
  {
   "cell_type": "code",
   "execution_count": 33,
   "metadata": {},
   "outputs": [],
   "source": [
    "import cv2\n",
    "import numpy as np\n",
    "import math\n",
    "\n",
    "def draw_bodypose(canvas, candidate, subset):\n",
    "    # 初始化一个全黑的画布（原图尺寸）\n",
    "    black_canvas = np.zeros_like(canvas)\n",
    "    \n",
    "    stickwidth = 4\n",
    "    limbSeq = [[2, 3], [2, 6], [3, 4], [4, 5], [6, 7], [7, 8], [2, 9], [9, 10], \\\n",
    "               [10, 11], [2, 12], [12, 13], [13, 14], [2, 1], [1, 15], [15, 17], \\\n",
    "               [1, 16], [16, 18], [3, 17], [6, 18]]\n",
    "    \n",
    "    # 1. 只画骨架（不画关键点圆圈）\n",
    "    for i in range(17):  # 遍历所有骨架连接\n",
    "        for n in range(len(subset)):\n",
    "            index = subset[n][np.array(limbSeq[i]) - 1]\n",
    "            if -1 in index:\n",
    "                continue\n",
    "            \n",
    "            # 获取两个关键点坐标\n",
    "            Y = candidate[index.astype(int), 0]  # x坐标\n",
    "            X = candidate[index.astype(int), 1]  # y坐标\n",
    "            mX = np.mean(X)\n",
    "            mY = np.mean(Y)\n",
    "            length = ((X[0] - X[1]) ** 2 + (Y[0] - Y[1]) ** 2) ** 0.5\n",
    "            angle = math.degrees(math.atan2(X[0] - X[1], Y[0] - Y[1]))\n",
    "            \n",
    "            # 用白色绘制骨架\n",
    "            polygon = cv2.ellipse2Poly((int(mY), int(mX)), (int(length / 2), stickwidth), int(angle), 0, 360, 1)\n",
    "            cv2.fillConvexPoly(black_canvas, polygon, (255, 255, 255))  # 白色骨架\n",
    "    \n",
    "    # 2. 调整分辨率为 (128, 128)，虽然存储的是彩色图，但实际在提取的时候是灰度图\n",
    "    resized_canvas = cv2.resize(black_canvas, (128, 128), interpolation=cv2.INTER_NEAREST)\n",
    "    \n",
    "    # # 3. 转换成灰度图\n",
    "    # if resized_canvas.ndim == 3:  # 如果是彩色图 (H, W, 3)\n",
    "    #     resized_canvas = cv2.cvtColor(resized_canvas, cv2.COLOR_BGR2GRAY) # 转换成灰度图\n",
    "\n",
    "    return resized_canvas"
   ]
  },
  {
   "cell_type": "code",
   "execution_count": 34,
   "metadata": {},
   "outputs": [],
   "source": [
    "def get_train_datasets(train_videos, data_tag = '', target_data = pd.DataFrame(), data_path = ''):\n",
    "\n",
    "    for video in train_videos:\n",
    "        videoID = video.split('.')[0].replace('_','')\n",
    "\n",
    "        video_addr = os.path.join(video_path, video)\n",
    "\n",
    "        cap = cv2.VideoCapture(video_addr)\n",
    "        fps = cap.get(cv2.CAP_PROP_FPS)\n",
    "        total_frames = int(cap.get(cv2.CAP_PROP_FRAME_COUNT))\n",
    "\n",
    "        frame_interval = 2\n",
    "        frame_count = 0\n",
    "\n",
    "        while cap.isOpened() and frame_count < total_frames:\n",
    "\n",
    "            cap.set(cv2.CAP_PROP_POS_FRAMES, frame_count)\n",
    "            ret, img = cap.read()\n",
    "\n",
    "            if not ret:\n",
    "                break\n",
    "\n",
    "            timestamps = frame_count/fps\n",
    "            fall_time = target_data[target_data['new_videoID']==video]['fall_time'].values[0]\n",
    "            if timestamps >= fall_time:\n",
    "                label_tag = 'fall'\n",
    "            else:\n",
    "                label_tag = 'normal'\n",
    "            \n",
    "            canvas = img.copy()\n",
    "\n",
    "            candidate, subset = openpose(img)\n",
    "\n",
    "            if len(candidate)>=3:\n",
    "                skeleton_img = draw_bodypose(canvas, candidate, subset)\n",
    "                tm = time.time()\n",
    "                tm = int(round(tm*1000))\n",
    "                t = videoID+'_'+str(tm)\n",
    "                img_save_name = f'{data_tag}/{label_tag}/{t}.jpg'\n",
    "                cv2.imwrite(os.path.join(data_path, img_save_name), skeleton_img)\n",
    "                \n",
    "            frame_count+=frame_interval\n",
    "        "
   ]
  },
  {
   "cell_type": "code",
   "execution_count": 35,
   "metadata": {},
   "outputs": [],
   "source": [
    "get_train_datasets(train_videos, data_tag = 'train', target_data = target_data, data_path = data_path)"
   ]
  },
  {
   "cell_type": "code",
   "execution_count": 36,
   "metadata": {},
   "outputs": [],
   "source": [
    "get_train_datasets(valid_videos, data_tag = 'valid', target_data = target_data, data_path = data_path)"
   ]
  },
  {
   "cell_type": "code",
   "execution_count": 37,
   "metadata": {},
   "outputs": [
    {
     "data": {
      "text/plain": [
       "785"
      ]
     },
     "execution_count": 37,
     "metadata": {},
     "output_type": "execute_result"
    }
   ],
   "source": [
    "import gc\n",
    "gc.collect()"
   ]
  },
  {
   "cell_type": "code",
   "execution_count": 38,
   "metadata": {},
   "outputs": [
    {
     "name": "stdout",
     "output_type": "stream",
     "text": [
      "161\n",
      "3731\n",
      "11\n",
      "527\n"
     ]
    }
   ],
   "source": [
    "train_fall = len(os.listdir(os.path.join(data_path, 'train', 'fall')))\n",
    "print(train_fall)\n",
    "train_normal = len(os.listdir(os.path.join(data_path, 'train', 'normal')))\n",
    "print(train_normal)\n",
    "valid_fall = len(os.listdir(os.path.join(data_path, 'valid', 'fall')))\n",
    "print(valid_fall)\n",
    "valid_normal = len(os.listdir(os.path.join(data_path, 'valid', 'normal')))\n",
    "print(valid_normal)"
   ]
  },
  {
   "cell_type": "code",
   "execution_count": 39,
   "metadata": {},
   "outputs": [
    {
     "name": "stdout",
     "output_type": "stream",
     "text": [
      "0.043151969981238276\n",
      "0.020872865275142316\n"
     ]
    }
   ],
   "source": [
    "print(train_fall/train_normal)\n",
    "print(valid_fall/valid_normal)\n",
    "\n",
    "# 0.03776360961255518\n",
    "# 0.06077348066298342\n",
    "\n",
    "# 0.043151969981238276\n",
    "# 0.020872865275142316"
   ]
  },
  {
   "cell_type": "code",
   "execution_count": null,
   "metadata": {},
   "outputs": [],
   "source": []
  },
  {
   "cell_type": "code",
   "execution_count": null,
   "metadata": {},
   "outputs": [],
   "source": []
  }
 ],
 "metadata": {
  "colab": {
   "provenance": []
  },
  "kernelspec": {
   "display_name": "Python [conda env:base] *",
   "language": "python",
   "name": "conda-base-py"
  },
  "language_info": {
   "codemirror_mode": {
    "name": "ipython",
    "version": 3
   },
   "file_extension": ".py",
   "mimetype": "text/x-python",
   "name": "python",
   "nbconvert_exporter": "python",
   "pygments_lexer": "ipython3",
   "version": "3.12.7"
  }
 },
 "nbformat": 4,
 "nbformat_minor": 4
}
